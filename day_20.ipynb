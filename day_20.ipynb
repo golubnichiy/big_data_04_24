{
 "cells": [
  {
   "cell_type": "markdown",
   "metadata": {},
   "source": [
    "### Подключение PySpark, загрузка библиотек, настройка изображений"
   ]
  },
  {
   "cell_type": "code",
   "execution_count": 21,
   "metadata": {},
   "outputs": [],
   "source": [
    "import numpy as np \n",
    "import pandas as pd\n",
    "\n",
    "import seaborn as sns\n",
    "import matplotlib.pyplot as plt\n",
    "\n",
    "from pyspark.sql import SparkSession\n",
    "from pyspark.sql.functions import col, mean, countDistinct, count, size, when, regexp_extract, split\n",
    "\n",
    "sns.set_style('darkgrid')\n",
    "params = {'legend.fontsize' : 'medium', 'figure.figsize' : (10,8), 'figure.dpi' : 100, 'axes.labelsize': 'medium', 'axes.titlesize': 'medium', 'xtick.labelsize' : 'medium', 'ytick.labelsize' : 'medium'}\n",
    "plt.rcParams.update(params)"
   ]
  },
  {
   "cell_type": "markdown",
   "metadata": {},
   "source": [
    "### Запуск сессии PySpark"
   ]
  },
  {
   "cell_type": "code",
   "execution_count": 22,
   "metadata": {},
   "outputs": [],
   "source": [
    "spark = SparkSession.builder.appName('EDA Films').getOrCreate()"
   ]
  },
  {
   "cell_type": "markdown",
   "metadata": {},
   "source": [
    "### Загрузка и обзор датасета"
   ]
  },
  {
   "cell_type": "code",
   "execution_count": 23,
   "metadata": {},
   "outputs": [],
   "source": [
    "df_movies = spark.read.csv('sp_movies.csv', header=True, inferSchema=True)\n",
    "df_ratings = spark.read.csv('sp_ratings.csv', header=True, inferSchema=True)\n",
    "df_tags = spark.read.csv('sp_tags.csv', header=True, inferSchema=True)"
   ]
  },
  {
   "cell_type": "code",
   "execution_count": 24,
   "metadata": {},
   "outputs": [
    {
     "name": "stdout",
     "output_type": "stream",
     "text": [
      "+-------+--------------------+--------------------+\n",
      "|movieId|               title|              genres|\n",
      "+-------+--------------------+--------------------+\n",
      "|      1|    Toy Story (1995)|Adventure|Animati...|\n",
      "|      2|      Jumanji (1995)|Adventure|Childre...|\n",
      "|      3|Grumpier Old Men ...|      Comedy|Romance|\n",
      "+-------+--------------------+--------------------+\n",
      "only showing top 3 rows\n",
      "\n"
     ]
    }
   ],
   "source": [
    "df_movies.show(3)"
   ]
  },
  {
   "cell_type": "code",
   "execution_count": 25,
   "metadata": {},
   "outputs": [
    {
     "name": "stdout",
     "output_type": "stream",
     "text": [
      "+------+-------+------+---------+\n",
      "|userId|movieId|rating|timestamp|\n",
      "+------+-------+------+---------+\n",
      "|     1|      1|   4.0|964982703|\n",
      "|     1|      3|   4.0|964981247|\n",
      "|     1|      6|   4.0|964982224|\n",
      "+------+-------+------+---------+\n",
      "only showing top 3 rows\n",
      "\n"
     ]
    }
   ],
   "source": [
    "df_ratings.show(3)"
   ]
  },
  {
   "cell_type": "code",
   "execution_count": 26,
   "metadata": {},
   "outputs": [
    {
     "name": "stdout",
     "output_type": "stream",
     "text": [
      "+------+-------+---------------+----------+\n",
      "|userId|movieId|            tag| timestamp|\n",
      "+------+-------+---------------+----------+\n",
      "|     2|  60756|          funny|1445714994|\n",
      "|     2|  60756|Highly quotable|1445714996|\n",
      "|     2|  60756|   will ferrell|1445714992|\n",
      "+------+-------+---------------+----------+\n",
      "only showing top 3 rows\n",
      "\n"
     ]
    }
   ],
   "source": [
    "df_tags.show(3)"
   ]
  },
  {
   "cell_type": "markdown",
   "metadata": {},
   "source": [
    "### Статистика данных"
   ]
  },
  {
   "cell_type": "code",
   "execution_count": 27,
   "metadata": {},
   "outputs": [
    {
     "name": "stdout",
     "output_type": "stream",
     "text": [
      "Количество пользователей поставивших оценку:\n",
      "+----------------------+\n",
      "|count(DISTINCT userId)|\n",
      "+----------------------+\n",
      "|                   610|\n",
      "+----------------------+\n",
      "\n"
     ]
    }
   ],
   "source": [
    "print('Количество пользователей поставивших оценку:')\n",
    "df_ratings.select(countDistinct('userId')).show()"
   ]
  },
  {
   "cell_type": "code",
   "execution_count": 28,
   "metadata": {},
   "outputs": [
    {
     "name": "stdout",
     "output_type": "stream",
     "text": [
      "Количество оцененных фильмов:\n",
      "+-----------------------+\n",
      "|count(DISTINCT movieId)|\n",
      "+-----------------------+\n",
      "|                   9724|\n",
      "+-----------------------+\n",
      "\n"
     ]
    }
   ],
   "source": [
    "print('Количество оцененных фильмов:')\n",
    "df_ratings.select(countDistinct('movieId')).show()"
   ]
  },
  {
   "cell_type": "code",
   "execution_count": 29,
   "metadata": {},
   "outputs": [
    {
     "name": "stdout",
     "output_type": "stream",
     "text": [
      "Количество комментариев (tags) фильмов:\n",
      "+-----------------------+\n",
      "|count(DISTINCT movieId)|\n",
      "+-----------------------+\n",
      "|                   1572|\n",
      "+-----------------------+\n",
      "\n"
     ]
    }
   ],
   "source": [
    "print('Количество комментариев (tags) фильмов:')\n",
    "df_tags.select(countDistinct('movieId')).show()"
   ]
  },
  {
   "cell_type": "code",
   "execution_count": 30,
   "metadata": {},
   "outputs": [
    {
     "name": "stdout",
     "output_type": "stream",
     "text": [
      "Количество комментариев к фильмам:\n",
      "+-------------------+\n",
      "|count(DISTINCT tag)|\n",
      "+-------------------+\n",
      "|               1589|\n",
      "+-------------------+\n",
      "\n"
     ]
    }
   ],
   "source": [
    "print('Количество комментариев к фильмам:')\n",
    "df_tags.select(countDistinct('tag')).show()"
   ]
  },
  {
   "cell_type": "markdown",
   "metadata": {},
   "source": [
    "### Предобработка и настройка данных"
   ]
  },
  {
   "cell_type": "code",
   "execution_count": 31,
   "metadata": {},
   "outputs": [],
   "source": [
    "df1 = df_ratings.alias('df1')\n",
    "df2 = df_tags.alias('df2')\n",
    "df3 = df_movies.alias('df3')"
   ]
  },
  {
   "cell_type": "code",
   "execution_count": 32,
   "metadata": {},
   "outputs": [
    {
     "name": "stdout",
     "output_type": "stream",
     "text": [
      "+-------+--------------------+--------------------+\n",
      "|movieId|               title|              genres|\n",
      "+-------+--------------------+--------------------+\n",
      "|      1|    Toy Story (1995)|Adventure|Animati...|\n",
      "|      2|      Jumanji (1995)|Adventure|Childre...|\n",
      "|      3|Grumpier Old Men ...|      Comedy|Romance|\n",
      "|      4|Waiting to Exhale...|Comedy|Drama|Romance|\n",
      "|      5|Father of the Bri...|              Comedy|\n",
      "|      6|         Heat (1995)|Action|Crime|Thri...|\n",
      "|      7|      Sabrina (1995)|      Comedy|Romance|\n",
      "|      8| Tom and Huck (1995)|  Adventure|Children|\n",
      "|      9| Sudden Death (1995)|              Action|\n",
      "|     10|    GoldenEye (1995)|Action|Adventure|...|\n",
      "|     11|American Presiden...|Comedy|Drama|Romance|\n",
      "|     12|Dracula: Dead and...|       Comedy|Horror|\n",
      "|     13|        Balto (1995)|Adventure|Animati...|\n",
      "|     14|        Nixon (1995)|               Drama|\n",
      "|     15|Cutthroat Island ...|Action|Adventure|...|\n",
      "|     16|       Casino (1995)|         Crime|Drama|\n",
      "|     17|Sense and Sensibi...|       Drama|Romance|\n",
      "|     18|   Four Rooms (1995)|              Comedy|\n",
      "|     19|Ace Ventura: When...|              Comedy|\n",
      "|     20|  Money Train (1995)|Action|Comedy|Cri...|\n",
      "+-------+--------------------+--------------------+\n",
      "only showing top 20 rows\n",
      "\n"
     ]
    }
   ],
   "source": [
    "df3.show()"
   ]
  },
  {
   "cell_type": "markdown",
   "metadata": {},
   "source": [
    "### Извлечение года из названия"
   ]
  },
  {
   "cell_type": "code",
   "execution_count": 33,
   "metadata": {},
   "outputs": [],
   "source": [
    "df3 = df3.withColumn('year', regexp_extract(df3['title'], r'\\((\\d{4})\\)', 1))"
   ]
  },
  {
   "cell_type": "code",
   "execution_count": 34,
   "metadata": {},
   "outputs": [
    {
     "name": "stdout",
     "output_type": "stream",
     "text": [
      "+-------+--------------------+--------------------+----+\n",
      "|movieId|               title|              genres|year|\n",
      "+-------+--------------------+--------------------+----+\n",
      "|      1|    Toy Story (1995)|Adventure|Animati...|1995|\n",
      "|      2|      Jumanji (1995)|Adventure|Childre...|1995|\n",
      "|      3|Grumpier Old Men ...|      Comedy|Romance|1995|\n",
      "|      4|Waiting to Exhale...|Comedy|Drama|Romance|1995|\n",
      "|      5|Father of the Bri...|              Comedy|1995|\n",
      "|      6|         Heat (1995)|Action|Crime|Thri...|1995|\n",
      "|      7|      Sabrina (1995)|      Comedy|Romance|1995|\n",
      "|      8| Tom and Huck (1995)|  Adventure|Children|1995|\n",
      "|      9| Sudden Death (1995)|              Action|1995|\n",
      "|     10|    GoldenEye (1995)|Action|Adventure|...|1995|\n",
      "|     11|American Presiden...|Comedy|Drama|Romance|1995|\n",
      "|     12|Dracula: Dead and...|       Comedy|Horror|1995|\n",
      "|     13|        Balto (1995)|Adventure|Animati...|1995|\n",
      "|     14|        Nixon (1995)|               Drama|1995|\n",
      "|     15|Cutthroat Island ...|Action|Adventure|...|1995|\n",
      "|     16|       Casino (1995)|         Crime|Drama|1995|\n",
      "|     17|Sense and Sensibi...|       Drama|Romance|1995|\n",
      "|     18|   Four Rooms (1995)|              Comedy|1995|\n",
      "|     19|Ace Ventura: When...|              Comedy|1995|\n",
      "|     20|  Money Train (1995)|Action|Comedy|Cri...|1995|\n",
      "+-------+--------------------+--------------------+----+\n",
      "only showing top 20 rows\n",
      "\n"
     ]
    }
   ],
   "source": [
    "df3.show()"
   ]
  },
  {
   "cell_type": "markdown",
   "metadata": {},
   "source": [
    "### Извлечение данных о жанрах"
   ]
  },
  {
   "cell_type": "code",
   "execution_count": 35,
   "metadata": {},
   "outputs": [],
   "source": [
    "split_expr = split(df3['genres'], '\\\\|')\n",
    "for i in range(1,11):\n",
    "    df3 = df3.withColumn('genre{}'.format(i), split_expr.getItem(i-1))\n",
    "\n",
    "genre_columns = {'genre{}'.format(i) for i in range(1,11)}\n",
    "for col_name in genre_columns:\n",
    "    df3 = df3.withColumn(col_name, col(col_name).cast('string').alias(col_name))\n",
    "\n",
    "genre_count_expr = sum(when(col(col_name) != '0', 1).otherwise(0) for col_name in genre_columns)\n",
    "df3 = df3.withColumn('genre_count', genre_count_expr)"
   ]
  },
  {
   "cell_type": "code",
   "execution_count": 36,
   "metadata": {},
   "outputs": [],
   "source": [
    "df3 = df3.drop('genres')"
   ]
  },
  {
   "cell_type": "code",
   "execution_count": 37,
   "metadata": {},
   "outputs": [
    {
     "name": "stdout",
     "output_type": "stream",
     "text": [
      "+-------+--------------------+----+---------+---------+--------+------+--------+------+------+------+------+-------+-----------+\n",
      "|movieId|               title|year|   genre1|   genre2|  genre3|genre4|  genre5|genre6|genre7|genre8|genre9|genre10|genre_count|\n",
      "+-------+--------------------+----+---------+---------+--------+------+--------+------+------+------+------+-------+-----------+\n",
      "|      1|    Toy Story (1995)|1995|Adventure|Animation|Children|Comedy| Fantasy|  NULL|  NULL|  NULL|  NULL|   NULL|          5|\n",
      "|      2|      Jumanji (1995)|1995|Adventure| Children| Fantasy|  NULL|    NULL|  NULL|  NULL|  NULL|  NULL|   NULL|          3|\n",
      "|      3|Grumpier Old Men ...|1995|   Comedy|  Romance|    NULL|  NULL|    NULL|  NULL|  NULL|  NULL|  NULL|   NULL|          2|\n",
      "|      4|Waiting to Exhale...|1995|   Comedy|    Drama| Romance|  NULL|    NULL|  NULL|  NULL|  NULL|  NULL|   NULL|          3|\n",
      "|      5|Father of the Bri...|1995|   Comedy|     NULL|    NULL|  NULL|    NULL|  NULL|  NULL|  NULL|  NULL|   NULL|          1|\n",
      "|      6|         Heat (1995)|1995|   Action|    Crime|Thriller|  NULL|    NULL|  NULL|  NULL|  NULL|  NULL|   NULL|          3|\n",
      "|      7|      Sabrina (1995)|1995|   Comedy|  Romance|    NULL|  NULL|    NULL|  NULL|  NULL|  NULL|  NULL|   NULL|          2|\n",
      "|      8| Tom and Huck (1995)|1995|Adventure| Children|    NULL|  NULL|    NULL|  NULL|  NULL|  NULL|  NULL|   NULL|          2|\n",
      "|      9| Sudden Death (1995)|1995|   Action|     NULL|    NULL|  NULL|    NULL|  NULL|  NULL|  NULL|  NULL|   NULL|          1|\n",
      "|     10|    GoldenEye (1995)|1995|   Action|Adventure|Thriller|  NULL|    NULL|  NULL|  NULL|  NULL|  NULL|   NULL|          3|\n",
      "|     11|American Presiden...|1995|   Comedy|    Drama| Romance|  NULL|    NULL|  NULL|  NULL|  NULL|  NULL|   NULL|          3|\n",
      "|     12|Dracula: Dead and...|1995|   Comedy|   Horror|    NULL|  NULL|    NULL|  NULL|  NULL|  NULL|  NULL|   NULL|          2|\n",
      "|     13|        Balto (1995)|1995|Adventure|Animation|Children|  NULL|    NULL|  NULL|  NULL|  NULL|  NULL|   NULL|          3|\n",
      "|     14|        Nixon (1995)|1995|    Drama|     NULL|    NULL|  NULL|    NULL|  NULL|  NULL|  NULL|  NULL|   NULL|          1|\n",
      "|     15|Cutthroat Island ...|1995|   Action|Adventure| Romance|  NULL|    NULL|  NULL|  NULL|  NULL|  NULL|   NULL|          3|\n",
      "|     16|       Casino (1995)|1995|    Crime|    Drama|    NULL|  NULL|    NULL|  NULL|  NULL|  NULL|  NULL|   NULL|          2|\n",
      "|     17|Sense and Sensibi...|1995|    Drama|  Romance|    NULL|  NULL|    NULL|  NULL|  NULL|  NULL|  NULL|   NULL|          2|\n",
      "|     18|   Four Rooms (1995)|1995|   Comedy|     NULL|    NULL|  NULL|    NULL|  NULL|  NULL|  NULL|  NULL|   NULL|          1|\n",
      "|     19|Ace Ventura: When...|1995|   Comedy|     NULL|    NULL|  NULL|    NULL|  NULL|  NULL|  NULL|  NULL|   NULL|          1|\n",
      "|     20|  Money Train (1995)|1995|   Action|   Comedy|   Crime| Drama|Thriller|  NULL|  NULL|  NULL|  NULL|   NULL|          5|\n",
      "+-------+--------------------+----+---------+---------+--------+------+--------+------+------+------+------+-------+-----------+\n",
      "only showing top 20 rows\n",
      "\n"
     ]
    }
   ],
   "source": [
    "df3.show()"
   ]
  },
  {
   "cell_type": "markdown",
   "metadata": {},
   "source": [
    "### Анализ данных"
   ]
  },
  {
   "cell_type": "code",
   "execution_count": 38,
   "metadata": {},
   "outputs": [
    {
     "name": "stdout",
     "output_type": "stream",
     "text": [
      "+-----------+-----------------+\n",
      "|movieId_avg|       rating_avg|\n",
      "+-----------+-----------------+\n",
      "|       1580|3.487878787878788|\n",
      "|       2366|             3.64|\n",
      "|       3175|             3.58|\n",
      "+-----------+-----------------+\n",
      "only showing top 3 rows\n",
      "\n"
     ]
    }
   ],
   "source": [
    "rating_avg = df1.groupBy('movieId').agg(mean('rating').alias('rating_avg'))\n",
    "rating_avg = rating_avg.withColumnRenamed('movieId', 'movieId_avg')\n",
    "rating_avg.show(3)"
   ]
  },
  {
   "cell_type": "code",
   "execution_count": 39,
   "metadata": {},
   "outputs": [
    {
     "name": "stdout",
     "output_type": "stream",
     "text": [
      "+-------------+------------+\n",
      "|movieId_count|rating_count|\n",
      "+-------------+------------+\n",
      "|         1580|         165|\n",
      "|         2366|          25|\n",
      "|         3175|          75|\n",
      "+-------------+------------+\n",
      "only showing top 3 rows\n",
      "\n"
     ]
    }
   ],
   "source": [
    "rating_count = df1.groupBy('movieId').agg(count('rating').alias('rating_count'))\n",
    "rating_count = rating_count.withColumnRenamed('movieId', 'movieId_count')\n",
    "rating_count.show(3)"
   ]
  },
  {
   "cell_type": "code",
   "execution_count": 40,
   "metadata": {},
   "outputs": [
    {
     "name": "stdout",
     "output_type": "stream",
     "text": [
      "+----------+------------------+\n",
      "|userId_avg|   user_rating_avg|\n",
      "+----------+------------------+\n",
      "|       148|3.7395833333333335|\n",
      "|       463| 3.787878787878788|\n",
      "|       471|             3.875|\n",
      "+----------+------------------+\n",
      "only showing top 3 rows\n",
      "\n"
     ]
    }
   ],
   "source": [
    "user_rating = df1.groupBy('userId').agg(mean('rating').alias('user_rating_avg'))\n",
    "user_rating = user_rating.withColumnRenamed('userId', 'userId_avg')\n",
    "user_rating.show(3)"
   ]
  },
  {
   "cell_type": "code",
   "execution_count": 41,
   "metadata": {},
   "outputs": [
    {
     "name": "stdout",
     "output_type": "stream",
     "text": [
      "+------------+-----------------+\n",
      "|userId_count|user_rating_count|\n",
      "+------------+-----------------+\n",
      "|         148|               48|\n",
      "|         463|               33|\n",
      "|         471|               28|\n",
      "+------------+-----------------+\n",
      "only showing top 3 rows\n",
      "\n"
     ]
    }
   ],
   "source": [
    "user_count = df1.groupBy('userId').agg(count('rating').alias('user_rating_count'))\n",
    "user_count = user_count.withColumnRenamed('userId', 'userId_count')\n",
    "user_count.show(3)"
   ]
  },
  {
   "cell_type": "code",
   "execution_count": 42,
   "metadata": {},
   "outputs": [
    {
     "name": "stdout",
     "output_type": "stream",
     "text": [
      "+-----------+-----------------+------------+\n",
      "|movieId_avg|       rating_avg|rating_count|\n",
      "+-----------+-----------------+------------+\n",
      "|       1580|3.487878787878788|         165|\n",
      "|       2366|             3.64|          25|\n",
      "|       3175|             3.58|          75|\n",
      "+-----------+-----------------+------------+\n",
      "only showing top 3 rows\n",
      "\n"
     ]
    }
   ],
   "source": [
    "df_movie = rating_avg.join(rating_count, col('movieId_avg') == col('movieId_count'), 'inner').drop('movieId_count')\n",
    "df_movie.show(3)"
   ]
  },
  {
   "cell_type": "code",
   "execution_count": 43,
   "metadata": {},
   "outputs": [
    {
     "name": "stdout",
     "output_type": "stream",
     "text": [
      "+----------+------------------+-----------------+\n",
      "|userId_avg|   user_rating_avg|user_rating_count|\n",
      "+----------+------------------+-----------------+\n",
      "|       148|3.7395833333333335|               48|\n",
      "|       463| 3.787878787878788|               33|\n",
      "|       471|             3.875|               28|\n",
      "+----------+------------------+-----------------+\n",
      "only showing top 3 rows\n",
      "\n"
     ]
    }
   ],
   "source": [
    "df_user = user_rating.join(user_count, col('userId_avg') == col('userId_count'), 'inner').drop('userId_count')\n",
    "df_user.show(3)"
   ]
  },
  {
   "cell_type": "code",
   "execution_count": 44,
   "metadata": {},
   "outputs": [
    {
     "name": "stdout",
     "output_type": "stream",
     "text": [
      "+----------+------------------+-----------------+\n",
      "|userId_avg|   user_rating_avg|user_rating_count|\n",
      "+----------+------------------+-----------------+\n",
      "|       414| 3.391957005189029|             2698|\n",
      "|       599|2.6420500403551253|             2478|\n",
      "|       474| 3.398956356736243|             2108|\n",
      "|       448|2.8473712446351933|             1864|\n",
      "|       274| 3.235884101040119|             1346|\n",
      "|       610|3.6885560675883258|             1302|\n",
      "|        68| 3.233730158730159|             1260|\n",
      "|       380|3.6732348111658455|             1218|\n",
      "|       606|3.6573991031390136|             1115|\n",
      "|       288|3.1459715639810426|             1055|\n",
      "|       249|3.6964627151051626|             1046|\n",
      "|       387|3.2585199610516065|             1027|\n",
      "|       182|3.5112589559877176|              977|\n",
      "|       307|2.6656410256410257|              975|\n",
      "|       603|3.5079533404029695|              943|\n",
      "|       298| 2.363684771033014|              939|\n",
      "|       177| 3.375553097345133|              904|\n",
      "|       318| 3.755972696245734|              879|\n",
      "|       232|3.2505800464037122|              862|\n",
      "|       480|  3.27511961722488|              836|\n",
      "+----------+------------------+-----------------+\n",
      "only showing top 20 rows\n",
      "\n"
     ]
    }
   ],
   "source": [
    "df_user.sort(col('user_rating_count').desc()).show()"
   ]
  },
  {
   "cell_type": "code",
   "execution_count": 45,
   "metadata": {},
   "outputs": [
    {
     "name": "stdout",
     "output_type": "stream",
     "text": [
      "+-----------+----------+------------+\n",
      "|movieId_avg|rating_avg|rating_count|\n",
      "+-----------+----------+------------+\n",
      "|      26350|       5.0|           1|\n",
      "|       3795|       5.0|           1|\n",
      "|      25887|       5.0|           1|\n",
      "|     157775|       5.0|           1|\n",
      "|        633|       5.0|           1|\n",
      "|      33138|       5.0|           1|\n",
      "|      67618|       5.0|           1|\n",
      "|        876|       5.0|           1|\n",
      "|        496|       5.0|           1|\n",
      "|      27373|       5.0|           1|\n",
      "|     113829|       5.0|           1|\n",
      "|      53578|       5.0|           1|\n",
      "|     152711|       5.0|           1|\n",
      "|     118894|       5.0|           1|\n",
      "|         53|       5.0|           2|\n",
      "|     160644|       5.0|           1|\n",
      "|        148|       5.0|           1|\n",
      "|       8911|       5.0|           1|\n",
      "|     147300|       5.0|           1|\n",
      "|      84273|       5.0|           1|\n",
      "+-----------+----------+------------+\n",
      "only showing top 20 rows\n",
      "\n"
     ]
    }
   ],
   "source": [
    "df_movie.sort(col('rating_avg').desc()).show()"
   ]
  },
  {
   "cell_type": "code",
   "execution_count": 46,
   "metadata": {},
   "outputs": [],
   "source": [
    "df_movies = df_movie.withColumnRenamed('movieId_avg', 'movieId')"
   ]
  },
  {
   "cell_type": "code",
   "execution_count": 47,
   "metadata": {},
   "outputs": [],
   "source": [
    "dfk = df3.select('movieId', df3['genre1'])\n",
    "df2 = df2.join(dfk, on='movieId', how='inner')"
   ]
  },
  {
   "cell_type": "code",
   "execution_count": 48,
   "metadata": {},
   "outputs": [
    {
     "name": "stdout",
     "output_type": "stream",
     "text": [
      "+-------+------+----------------+----------+---------+\n",
      "|movieId|userId|             tag| timestamp|   genre1|\n",
      "+-------+------+----------------+----------+---------+\n",
      "|      1|   567|             fun|1525286013|Adventure|\n",
      "|      1|   474|           pixar|1137206825|Adventure|\n",
      "|      1|   336|           pixar|1139045764|Adventure|\n",
      "|      2|   474|            game|1137375552|Adventure|\n",
      "|      2|    62|  Robin Williams|1528843907|Adventure|\n",
      "|      2|    62|magic board game|1528843932|Adventure|\n",
      "|      2|    62|         fantasy|1528843929|Adventure|\n",
      "|      3|   289|             old|1143424860|   Comedy|\n",
      "|      3|   289|           moldy|1143424860|   Comedy|\n",
      "|      5|   474|          remake|1137373903|   Comedy|\n",
      "|      5|   474|       pregnancy|1137373903|   Comedy|\n",
      "|      7|   474|          remake|1137375642|   Comedy|\n",
      "|     11|   474|       president|1137374904|   Comedy|\n",
      "|     11|   474|        politics|1137374904|   Comedy|\n",
      "|     14|   474|       president|1137375623|    Drama|\n",
      "|     14|   474|        politics|1137375623|    Drama|\n",
      "|     16|   474|           Mafia|1137181640|    Crime|\n",
      "|     17|   474|     Jane Austen|1137181153|    Drama|\n",
      "|     21|   474|       Hollywood|1137206178|   Comedy|\n",
      "|     22|   474|   serial killer|1137375496|    Crime|\n",
      "+-------+------+----------------+----------+---------+\n",
      "only showing top 20 rows\n",
      "\n"
     ]
    }
   ],
   "source": [
    "df2.show()"
   ]
  },
  {
   "cell_type": "code",
   "execution_count": 49,
   "metadata": {},
   "outputs": [
    {
     "name": "stdout",
     "output_type": "stream",
     "text": [
      "+------+-------+---------+\n",
      "|userId|movieId|tag_count|\n",
      "+------+-------+---------+\n",
      "|   599|    296|      173|\n",
      "+------+-------+---------+\n",
      "\n"
     ]
    }
   ],
   "source": [
    "user_tags = df2.groupBy(\"userId\", \"movieId\").agg(count(\"tag\").alias(\"tag_count\"))\n",
    "max_tag_count = user_tags.agg({\"tag_count\": \"max\"}).collect()[0][0]\n",
    "user_tags_max = user_tags.filter(user_tags[\"tag_count\"] == max_tag_count)\n",
    "\n",
    "user_tags_max.show()"
   ]
  },
  {
   "cell_type": "code",
   "execution_count": 50,
   "metadata": {},
   "outputs": [
    {
     "name": "stdout",
     "output_type": "stream",
     "text": [
      "+------+---------+\n",
      "|userId|tag_count|\n",
      "+------+---------+\n",
      "|   513|        3|\n",
      "|   193|       20|\n",
      "|   300|        1|\n",
      "+------+---------+\n",
      "only showing top 3 rows\n",
      "\n"
     ]
    }
   ],
   "source": [
    "user_tagcount = df2.groupBy(\"userId\").agg(count(\"tag\").alias(\"tag_count\"))\n",
    "user_tagcount.show(3)"
   ]
  },
  {
   "cell_type": "code",
   "execution_count": 51,
   "metadata": {},
   "outputs": [
    {
     "name": "stdout",
     "output_type": "stream",
     "text": [
      "+-------+---------+-----------+------+\n",
      "|movieId|tag_count|genre_count|genre1|\n",
      "+-------+---------+-----------+------+\n",
      "|    471|        1|          1|Comedy|\n",
      "|   1088|        2|          3| Drama|\n",
      "|   1580|        1|          3|Action|\n",
      "+-------+---------+-----------+------+\n",
      "only showing top 3 rows\n",
      "\n"
     ]
    }
   ],
   "source": [
    "movie_tagcount = df2.groupBy(\"movieId\").agg(count(\"tag\").alias(\"tag_count\"))\n",
    "cols = [\"movieId\", \"genre_count\", \"genre1\"]\n",
    "dfs = df3.select(cols)\n",
    "movie_tagcount = movie_tagcount.join(dfs, on=\"movieId\", how=\"inner\")\n",
    "\n",
    "movie_tagcount.show(3)"
   ]
  },
  {
   "cell_type": "code",
   "execution_count": 52,
   "metadata": {},
   "outputs": [
    {
     "ename": "AnalysisException",
     "evalue": "[UNRESOLVED_USING_COLUMN_FOR_JOIN] USING column `movieId` cannot be resolved on the right side of the join. The right-side columns: [`movieId_avg`, `rating_avg`, `rating_count`].",
     "output_type": "error",
     "traceback": [
      "\u001b[0;31m---------------------------------------------------------------------------\u001b[0m",
      "\u001b[0;31mAnalysisException\u001b[0m                         Traceback (most recent call last)",
      "Cell \u001b[0;32mIn[52], line 1\u001b[0m\n\u001b[0;32m----> 1\u001b[0m df3 \u001b[38;5;241m=\u001b[39m df3\u001b[38;5;241m.\u001b[39mjoin(df_movie, on\u001b[38;5;241m=\u001b[39m\u001b[38;5;124m\"\u001b[39m\u001b[38;5;124mmovieId\u001b[39m\u001b[38;5;124m\"\u001b[39m, how\u001b[38;5;241m=\u001b[39m\u001b[38;5;124m\"\u001b[39m\u001b[38;5;124minner\u001b[39m\u001b[38;5;124m\"\u001b[39m)\n\u001b[1;32m      2\u001b[0m df3 \u001b[38;5;241m=\u001b[39m df3\u001b[38;5;241m.\u001b[39mwithColumnRenamed(\u001b[38;5;124m\"\u001b[39m\u001b[38;5;124mavg_rating\u001b[39m\u001b[38;5;124m\"\u001b[39m, \u001b[38;5;124m\"\u001b[39m\u001b[38;5;124mrating\u001b[39m\u001b[38;5;124m\"\u001b[39m)\n\u001b[1;32m      3\u001b[0m df3\u001b[38;5;241m.\u001b[39mshow(\u001b[38;5;241m3\u001b[39m)\n",
      "File \u001b[0;32m/opt/anaconda3/lib/python3.11/site-packages/pyspark/sql/dataframe.py:2491\u001b[0m, in \u001b[0;36mDataFrame.join\u001b[0;34m(self, other, on, how)\u001b[0m\n\u001b[1;32m   2489\u001b[0m         on \u001b[38;5;241m=\u001b[39m \u001b[38;5;28mself\u001b[39m\u001b[38;5;241m.\u001b[39m_jseq([])\n\u001b[1;32m   2490\u001b[0m     \u001b[38;5;28;01massert\u001b[39;00m \u001b[38;5;28misinstance\u001b[39m(how, \u001b[38;5;28mstr\u001b[39m), \u001b[38;5;124m\"\u001b[39m\u001b[38;5;124mhow should be a string\u001b[39m\u001b[38;5;124m\"\u001b[39m\n\u001b[0;32m-> 2491\u001b[0m     jdf \u001b[38;5;241m=\u001b[39m \u001b[38;5;28mself\u001b[39m\u001b[38;5;241m.\u001b[39m_jdf\u001b[38;5;241m.\u001b[39mjoin(other\u001b[38;5;241m.\u001b[39m_jdf, on, how)\n\u001b[1;32m   2492\u001b[0m \u001b[38;5;28;01mreturn\u001b[39;00m DataFrame(jdf, \u001b[38;5;28mself\u001b[39m\u001b[38;5;241m.\u001b[39msparkSession)\n",
      "File \u001b[0;32m/opt/anaconda3/lib/python3.11/site-packages/py4j/java_gateway.py:1322\u001b[0m, in \u001b[0;36mJavaMember.__call__\u001b[0;34m(self, *args)\u001b[0m\n\u001b[1;32m   1316\u001b[0m command \u001b[38;5;241m=\u001b[39m proto\u001b[38;5;241m.\u001b[39mCALL_COMMAND_NAME \u001b[38;5;241m+\u001b[39m\\\n\u001b[1;32m   1317\u001b[0m     \u001b[38;5;28mself\u001b[39m\u001b[38;5;241m.\u001b[39mcommand_header \u001b[38;5;241m+\u001b[39m\\\n\u001b[1;32m   1318\u001b[0m     args_command \u001b[38;5;241m+\u001b[39m\\\n\u001b[1;32m   1319\u001b[0m     proto\u001b[38;5;241m.\u001b[39mEND_COMMAND_PART\n\u001b[1;32m   1321\u001b[0m answer \u001b[38;5;241m=\u001b[39m \u001b[38;5;28mself\u001b[39m\u001b[38;5;241m.\u001b[39mgateway_client\u001b[38;5;241m.\u001b[39msend_command(command)\n\u001b[0;32m-> 1322\u001b[0m return_value \u001b[38;5;241m=\u001b[39m get_return_value(\n\u001b[1;32m   1323\u001b[0m     answer, \u001b[38;5;28mself\u001b[39m\u001b[38;5;241m.\u001b[39mgateway_client, \u001b[38;5;28mself\u001b[39m\u001b[38;5;241m.\u001b[39mtarget_id, \u001b[38;5;28mself\u001b[39m\u001b[38;5;241m.\u001b[39mname)\n\u001b[1;32m   1325\u001b[0m \u001b[38;5;28;01mfor\u001b[39;00m temp_arg \u001b[38;5;129;01min\u001b[39;00m temp_args:\n\u001b[1;32m   1326\u001b[0m     \u001b[38;5;28;01mif\u001b[39;00m \u001b[38;5;28mhasattr\u001b[39m(temp_arg, \u001b[38;5;124m\"\u001b[39m\u001b[38;5;124m_detach\u001b[39m\u001b[38;5;124m\"\u001b[39m):\n",
      "File \u001b[0;32m/opt/anaconda3/lib/python3.11/site-packages/pyspark/errors/exceptions/captured.py:185\u001b[0m, in \u001b[0;36mcapture_sql_exception.<locals>.deco\u001b[0;34m(*a, **kw)\u001b[0m\n\u001b[1;32m    181\u001b[0m converted \u001b[38;5;241m=\u001b[39m convert_exception(e\u001b[38;5;241m.\u001b[39mjava_exception)\n\u001b[1;32m    182\u001b[0m \u001b[38;5;28;01mif\u001b[39;00m \u001b[38;5;129;01mnot\u001b[39;00m \u001b[38;5;28misinstance\u001b[39m(converted, UnknownException):\n\u001b[1;32m    183\u001b[0m     \u001b[38;5;66;03m# Hide where the exception came from that shows a non-Pythonic\u001b[39;00m\n\u001b[1;32m    184\u001b[0m     \u001b[38;5;66;03m# JVM exception message.\u001b[39;00m\n\u001b[0;32m--> 185\u001b[0m     \u001b[38;5;28;01mraise\u001b[39;00m converted \u001b[38;5;28;01mfrom\u001b[39;00m \u001b[38;5;28;01mNone\u001b[39;00m\n\u001b[1;32m    186\u001b[0m \u001b[38;5;28;01melse\u001b[39;00m:\n\u001b[1;32m    187\u001b[0m     \u001b[38;5;28;01mraise\u001b[39;00m\n",
      "\u001b[0;31mAnalysisException\u001b[0m: [UNRESOLVED_USING_COLUMN_FOR_JOIN] USING column `movieId` cannot be resolved on the right side of the join. The right-side columns: [`movieId_avg`, `rating_avg`, `rating_count`]."
     ]
    }
   ],
   "source": [
    "df3 = df3.join(df_movie, on=\"movieId\", how=\"inner\")\n",
    "df3 = df3.withColumnRenamed(\"avg_rating\", \"rating\")\n",
    "df3.show(3)"
   ]
  }
 ],
 "metadata": {
  "kernelspec": {
   "display_name": "base",
   "language": "python",
   "name": "python3"
  },
  "language_info": {
   "codemirror_mode": {
    "name": "ipython",
    "version": 3
   },
   "file_extension": ".py",
   "mimetype": "text/x-python",
   "name": "python",
   "nbconvert_exporter": "python",
   "pygments_lexer": "ipython3",
   "version": "3.11.7"
  }
 },
 "nbformat": 4,
 "nbformat_minor": 2
}
